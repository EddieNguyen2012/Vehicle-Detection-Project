{
  "cells": [
    {
      "cell_type": "code",
      "execution_count": 2,
      "metadata": {
        "colab": {
          "base_uri": "https://localhost:8080/"
        },
        "id": "7jTKSpQmfvCl",
        "outputId": "1a18ec18-0f3a-4ee1-f475-5ca71ca1d048"
      },
      "outputs": [
        {
          "name": "stdout",
          "output_type": "stream",
          "text": [
            "TensorFlow version: 2.16.1\n"
          ]
        }
      ],
      "source": [
        "import tensorflow as tf\n",
        "print(\"TensorFlow version:\", tf.__version__)"
      ]
    },
    {
      "cell_type": "code",
      "execution_count": 11,
      "metadata": {
        "id": "LcfhkMvO97kA"
      },
      "outputs": [],
      "source": [
        "import os\n",
        "import numpy as np\n",
        "import cv2\n",
        "from sklearn.utils import shuffle"
      ]
    },
    {
      "cell_type": "code",
      "execution_count": 12,
      "metadata": {
        "colab": {
          "base_uri": "https://localhost:8080/"
        },
        "id": "SF9d3Rs-3bOm",
        "outputId": "a806c19c-7022-48cb-c5a2-d799233983d7"
      },
      "outputs": [
        {
          "name": "stdout",
          "output_type": "stream",
          "text": [
            "Drive already mounted at /content/drive/; to attempt to forcibly remount, call drive.mount(\"/content/drive/\", force_remount=True).\n"
          ]
        }
      ],
      "source": [
        "# from google.colab import drive\n",
        "# drive.mount('/content/drive/')\n"
      ]
    },
    {
      "cell_type": "code",
      "execution_count": 13,
      "metadata": {
        "id": "UsakXbzP5sQB"
      },
      "outputs": [],
      "source": [
        "from sklearn.model_selection import train_test_split"
      ]
    },
    {
      "cell_type": "code",
      "execution_count": 38,
      "metadata": {},
      "outputs": [],
      "source": [
        "# # Define paths to your image folders\n",
        "# non_vehicle_folder = \"vehicle_dataset/non-vehicles/\"\n",
        "# vehicle_folder = \"vehicle_dataset/vehicles/\"\n",
        "\n",
        "# # Step 1: List Image Files using os.listdir()\n",
        "# non_vehicle_files = [os.path.join(non_vehicle_folder, file) for file in os.listdir(non_vehicle_folder) if file.endswith('.png')]\n",
        "# vehicle_files = [os.path.join(vehicle_folder, file) for file in os.listdir(vehicle_folder) if file.endswith('.png')]\n",
        "\n",
        "# # Step 2: Create Dataset with Labels\n",
        "# non_vehicle_dataset = tf.data.Dataset.from_tensor_slices((non_vehicle_files, [1] * len(non_vehicle_files)))\n",
        "# vehicle_dataset = tf.data.Dataset.from_tensor_slices((vehicle_files, [2] * len(vehicle_files)))\n",
        "\n",
        "# # Step 3: Combine Datasets\n",
        "# image_dataset = non_vehicle_dataset.concatenate(vehicle_dataset)\n",
        "\n",
        "images = []\n",
        "labels = []\n",
        "dataset = 'vehicle_dataset'\n",
        "\n",
        "for folder in os.listdir(dataset):\n",
        "    if not folder.startswith('.'):\n",
        "        label = None\n",
        "\n",
        "        if folder in ['vehicles']: label = 0\n",
        "        elif folder in ['non-vehicles']: label = 1\n",
        "\n",
        "        for file in os.listdir(os.path.join(dataset, folder)):\n",
        "            if file.endswith('.png'):\n",
        "                img_path = os.path.join(os.path.join(dataset, folder), file)\n",
        "\n",
        "                image = cv2.imread(img_path)\n",
        "\n",
        "                images.append(image)\n",
        "                labels.append(label)\n",
        "\n",
        "images = np.array(images, dtype='float32')/255.0\n",
        "labels = np.array(labels, dtype='int32')\n",
        "\n",
        "images = images.reshape(-1,64,64,3)\n",
        "\n",
        "images, labels = shuffle(images, labels, random_state=42)\n",
        "\n",
        "# train_images, test_images, train_labels, test_labels = train_test_split(images, labels, test_size = 0.2)\n",
        "xtrain,xval,ytrain,yval=train_test_split(images, labels,train_size=0.8,random_state=42)"
      ]
    },
    {
      "cell_type": "code",
      "execution_count": 39,
      "metadata": {},
      "outputs": [
        {
          "data": {
            "text/plain": [
              "(64, 64, 3)"
            ]
          },
          "execution_count": 39,
          "metadata": {},
          "output_type": "execute_result"
        }
      ],
      "source": [
        "images[0].shape"
      ]
    },
    {
      "cell_type": "code",
      "execution_count": 46,
      "metadata": {
        "colab": {
          "base_uri": "https://localhost:8080/",
          "height": 490
        },
        "id": "OOP6IYPW99HB",
        "outputId": "08383d61-9226-4bcf-ffc8-5e26bcc463de"
      },
      "outputs": [
        {
          "name": "stderr",
          "output_type": "stream",
          "text": [
            "/Users/davidtan/Documents/CS171/FinalProject/Vehicle-Detection-Project/venv/lib/python3.10/site-packages/keras/src/layers/convolutional/base_conv.py:107: UserWarning: Do not pass an `input_shape`/`input_dim` argument to a layer. When using Sequential models, prefer using an `Input(shape)` object as the first layer in the model instead.\n",
            "  super().__init__(activity_regularizer=activity_regularizer, **kwargs)\n"
          ]
        }
      ],
      "source": [
        "# # Define the model architecture\n",
        "# class SSDModel(tf.keras.Model):\n",
        "#     def __init__(self, num_classes):\n",
        "#         super(SSDModel, self).__init__()\n",
        "#         self.num_classes = num_classes\n",
        "\n",
        "#         # Backbone network (e.g. VGG16)\n",
        "#         self.backbone = tf.keras.applications.VGG16(weights='imagenet', include_top=False, input_shape=(64, 64, 3))\n",
        "\n",
        "#         # Feature extractor layers\n",
        "#         self.feature_extractor = tf.keras.Sequential([\n",
        "#             tf.keras.layers.Conv2D(1024, (3, 3), activation='relu', padding='same'),\n",
        "#             tf.keras.layers.Conv2D(1024, (3, 3), activation='relu', padding='same'),\n",
        "#             tf.keras.layers.MaxPooling2D((2, 2))\n",
        "#         ])\n",
        "\n",
        "#         # SSD layers\n",
        "#         self.ssd_layers = []\n",
        "#         for i in range(6):  # 6 default boxes per feature map\n",
        "#             self.ssd_layers.append(SSDLayer(4 + i, num_classes))\n",
        "\n",
        "#         # Prediction layers\n",
        "#         self.prediction_layers = []\n",
        "#         for i in range(6):  # 6 feature maps\n",
        "#             self.prediction_layers.append(PredictionLayer(num_classes))\n",
        "\n",
        "#     def call(self, inputs):\n",
        "#         # Backbone network\n",
        "#         x = self.backbone(inputs)\n",
        "\n",
        "#         # Feature extractor layers\n",
        "#         x = self.feature_extractor(x)\n",
        "\n",
        "#         # SSD layers\n",
        "#         feature_maps = []\n",
        "#         for i, layer in enumerate(self.ssd_layers):\n",
        "#             print(layer)\n",
        "#             x, feature_map = layer(x)\n",
        "#             feature_maps.append(feature_map)\n",
        "\n",
        "#         # Prediction layers\n",
        "#         predictions = []\n",
        "#         for i, layer in enumerate(self.prediction_layers):\n",
        "#             predictions.append(layer(feature_maps[i]))\n",
        "\n",
        "#         # Concatenate predictions\n",
        "#         predictions = tf.concat(predictions, axis=1)\n",
        "\n",
        "#         return predictions\n",
        "\n",
        "# class SSDLayer(tf.keras.layers.Layer):\n",
        "#     def __init__(self, num_defaults, num_classes):\n",
        "#         super(SSDLayer, self).__init__()\n",
        "#         self.num_defaults = num_defaults\n",
        "#         self.num_classes = num_classes\n",
        "\n",
        "#     def build(self, input_shape):\n",
        "#         self.conv = tf.keras.layers.Conv2D(self.num_defaults * (4 + self.num_classes), (3, 3), activation='linear', padding='same', input_shape=input_shape)\n",
        "\n",
        "#     def call(self, inputs):\n",
        "#         # inputs = tf.reshape(inputs, (-1, 64, 64, 3))  # Reshape inputs here\n",
        "#         inputs = tf.reshape(inputs, (-1, 32, 32, 3))  # Assuming 3 channels (RGB)\n",
        "#         x = self.conv(inputs)\n",
        "#         x = tf.reshape(x, (-1, x.shape[1], x.shape[2], self.num_defaults, 4 + self.num_classes))\n",
        "#         return x, x[:, :, :, :, :4]\n",
        "\n",
        "# class PredictionLayer(tf.keras.layers.Layer):\n",
        "#     def __init__(self, num_classes):\n",
        "#         super(PredictionLayer, self).__init__()\n",
        "#         self.num_classes = num_classes\n",
        "\n",
        "#     def build(self, input_shape):\n",
        "#         self.conv = tf.keras.layers.Conv2D(self.num_classes, (3, 3), activation='softmax', padding='same', input_shape=input_shape)\n",
        "\n",
        "#     def call(self, inputs):\n",
        "#         x = self.conv(inputs)\n",
        "#         return x\n",
        "\n",
        "# def load_image(file_path, label):\n",
        "#     img = tf.io.read_file(file_path)\n",
        "#     img = tf.image.decode_image(img, channels=3)  # Ensure 3 channels for color images\n",
        "#     img = tf.cast(img, tf.uint8)  # Cast the image to uint8 data type\n",
        "#     return img, label\n",
        "\n",
        "\n",
        "# # Create the model\n",
        "# model = SSDModel(num_classes=2)  # 2 classes: vehicle and non-vehicle\n",
        "\n",
        "# # Compile the model\n",
        "# model.compile(optimizer='adam', loss='ssd_loss', metrics=['accuracy'])\n",
        "\n",
        "model = tf.keras.models.Sequential()\n",
        "\n",
        "model.add(tf.keras.layers.Conv2D(32, (3, 3), padding = \"same\", activation='relu', input_shape=(64,64,3)))\n",
        "model.add(tf.keras.layers.Conv2D(64, (3, 3), activation='relu'))\n",
        "model.add(tf.keras.layers.Conv2D(128, (3, 3), activation='relu'))\n",
        "model.add(tf.keras.layers.MaxPooling2D(pool_size=(2,2)))\n",
        "model.add(tf.keras.layers.Dropout(0.25))\n",
        " \n",
        "model.add(tf.keras.layers.Flatten())\n",
        "model.add(tf.keras.layers.Dropout(0.5))\n",
        "model.add(tf.keras.layers.Dense(50, activation='relu'))\n",
        "model.add(tf.keras.layers.Dropout(0.5))\n",
        "model.add(tf.keras.layers.Dense(1, activation='sigmoid'))\n",
        "\n",
        "model.compile(loss='binary_crossentropy', optimizer='adam' ,metrics=['accuracy'])\n",
        "\n",
        "# # Create a dataset object\n",
        "# dataset = image_dataset.map(load_image)\n",
        "\n",
        "# # # Define the size of the training set\n",
        "# # train_size = int(0.8 * dataset.cardinality().numpy())\n",
        "\n",
        "\n",
        "# # # Split the dataset into training and testing subsets\n",
        "# # train_dataset = dataset.take(train_size)\n",
        "# # test_dataset = dataset.skip(train_size)\n",
        "\n",
        "# # Convert dataset to list to calculate train_size\n",
        "# dataset_list = list(dataset)\n",
        "# train_size = int(0.8 * len(dataset_list))\n",
        "\n",
        "# # Split the dataset into training and testing subsets\n",
        "# train_dataset = tf.data.Dataset.from_tensor_slices(dataset_list[:train_size])\n",
        "# test_dataset = tf.data.Dataset.from_tensor_slices(dataset_list[train_size:])\n",
        "\n"
      ]
    },
    {
      "cell_type": "code",
      "execution_count": 47,
      "metadata": {},
      "outputs": [],
      "source": [
        "datagen = tf.keras.preprocessing.image.ImageDataGenerator(\n",
        "        featurewise_center=False,  \n",
        "        samplewise_center=False,  \n",
        "        featurewise_std_normalization=False,  \n",
        "        samplewise_std_normalization=False,  \n",
        "        zca_whitening=False,    \n",
        "        rotation_range=15,    \n",
        "        width_shift_range=0.1,\n",
        "        height_shift_range=0.1,  \n",
        "        horizontal_flip=True,  \n",
        "        vertical_flip=False)\n",
        "datagen.fit(xtrain)"
      ]
    },
    {
      "cell_type": "code",
      "execution_count": 48,
      "metadata": {},
      "outputs": [
        {
          "name": "stdout",
          "output_type": "stream",
          "text": [
            "Epoch 1/5\n",
            "\u001b[1m444/444\u001b[0m \u001b[32m━━━━━━━━━━━━━━━━━━━━\u001b[0m\u001b[37m\u001b[0m \u001b[1m97s\u001b[0m 215ms/step - accuracy: 0.8663 - loss: 0.3078 - val_accuracy: 0.9724 - val_loss: 0.0739\n",
            "Epoch 2/5\n",
            "\u001b[1m444/444\u001b[0m \u001b[32m━━━━━━━━━━━━━━━━━━━━\u001b[0m\u001b[37m\u001b[0m \u001b[1m93s\u001b[0m 210ms/step - accuracy: 0.9777 - loss: 0.0709 - val_accuracy: 0.9820 - val_loss: 0.0496\n",
            "Epoch 3/5\n",
            "\u001b[1m444/444\u001b[0m \u001b[32m━━━━━━━━━━━━━━━━━━━━\u001b[0m\u001b[37m\u001b[0m \u001b[1m97s\u001b[0m 219ms/step - accuracy: 0.9844 - loss: 0.0477 - val_accuracy: 0.9797 - val_loss: 0.0684\n",
            "Epoch 4/5\n",
            "\u001b[1m444/444\u001b[0m \u001b[32m━━━━━━━━━━━━━━━━━━━━\u001b[0m\u001b[37m\u001b[0m \u001b[1m96s\u001b[0m 215ms/step - accuracy: 0.9851 - loss: 0.0455 - val_accuracy: 0.9870 - val_loss: 0.0353\n",
            "Epoch 5/5\n",
            "\u001b[1m444/444\u001b[0m \u001b[32m━━━━━━━━━━━━━━━━━━━━\u001b[0m\u001b[37m\u001b[0m \u001b[1m95s\u001b[0m 214ms/step - accuracy: 0.9873 - loss: 0.0402 - val_accuracy: 0.9901 - val_loss: 0.0305\n"
          ]
        },
        {
          "data": {
            "text/plain": [
              "<keras.src.callbacks.history.History at 0x2e1c3ab90>"
            ]
          },
          "execution_count": 48,
          "metadata": {},
          "output_type": "execute_result"
        }
      ],
      "source": [
        "# Train the model\n",
        "model.fit(xtrain, ytrain, batch_size=32,\n",
        "                    epochs=5,\n",
        "                    verbose=1,\n",
        "                    validation_data=(xval, yval))"
      ]
    }
  ],
  "metadata": {
    "accelerator": "GPU",
    "colab": {
      "gpuType": "T4",
      "provenance": []
    },
    "kernelspec": {
      "display_name": "venv",
      "language": "python",
      "name": "python3"
    },
    "language_info": {
      "codemirror_mode": {
        "name": "ipython",
        "version": 3
      },
      "file_extension": ".py",
      "mimetype": "text/x-python",
      "name": "python",
      "nbconvert_exporter": "python",
      "pygments_lexer": "ipython3",
      "version": "3.10.9"
    }
  },
  "nbformat": 4,
  "nbformat_minor": 0
}

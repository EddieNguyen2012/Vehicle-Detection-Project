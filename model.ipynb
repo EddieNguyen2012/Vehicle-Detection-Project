{
  "cells": [
    {
      "cell_type": "code",
      "execution_count": 1,
      "metadata": {
        "colab": {
          "base_uri": "https://localhost:8080/"
        },
        "id": "7jTKSpQmfvCl",
        "outputId": "c162d10f-8ec3-4b3b-de9f-2df597c38273"
      },
      "outputs": [
        {
          "output_type": "stream",
          "name": "stdout",
          "text": [
            "TensorFlow version: 2.15.0\n"
          ]
        }
      ],
      "source": [
        "import tensorflow as tf\n",
        "print(\"TensorFlow version:\", tf.__version__)"
      ]
    },
    {
      "cell_type": "code",
      "execution_count": 24,
      "metadata": {
        "id": "LcfhkMvO97kA"
      },
      "outputs": [],
      "source": [
        "import os\n",
        "import numpy as np\n",
        "import cv2\n",
        "from sklearn.utils import shuffle\n",
        "from sklearn.model_selection import train_test_split\n",
        "from tensorflow.keras.layers import Conv2D, Reshape\n",
        "from tensorflow.keras.applications import VGG16\n",
        "from tensorflow.keras.models import Model"
      ]
    },
    {
      "cell_type": "code",
      "execution_count": 3,
      "metadata": {
        "colab": {
          "base_uri": "https://localhost:8080/"
        },
        "id": "SF9d3Rs-3bOm",
        "outputId": "2b822c30-42cb-47b6-e062-fb4bd38c2b44"
      },
      "outputs": [
        {
          "output_type": "stream",
          "name": "stdout",
          "text": [
            "Mounted at /content/drive/\n"
          ]
        }
      ],
      "source": [
        "from google.colab import drive\n",
        "drive.mount('/content/drive/')\n"
      ]
    },
    {
      "cell_type": "code",
      "source": [
        "os.listdir(\"drive/MyDrive/data\")"
      ],
      "metadata": {
        "id": "P4yDGQ_aWo5S",
        "outputId": "2d37045b-114d-4c45-f5cc-bb6b2d35da67",
        "colab": {
          "base_uri": "https://localhost:8080/"
        }
      },
      "execution_count": 6,
      "outputs": [
        {
          "output_type": "execute_result",
          "data": {
            "text/plain": [
              "['non-vehicles', 'vehicles']"
            ]
          },
          "metadata": {},
          "execution_count": 6
        }
      ]
    },
    {
      "cell_type": "code",
      "execution_count": 4,
      "metadata": {
        "id": "sgNCtpHpVJIP"
      },
      "outputs": [],
      "source": [
        "# Define paths to your image folders\n",
        "# non_vehicle_folder = \"vehicle_dataset/non-vehicles/\"\n",
        "# vehicle_folder = \"vehicle_dataset/vehicles/\"\n",
        "\n",
        "# # Step 1: List Image Files using os.listdir()\n",
        "# non_vehicle_files = [os.path.join(non_vehicle_folder, file) for file in os.listdir(non_vehicle_folder) if file.endswith('.png')]\n",
        "# vehicle_files = [os.path.join(vehicle_folder, file) for file in os.listdir(vehicle_folder) if file.endswith('.png')]\n",
        "\n",
        "# # Step 2: Create Dataset with Labels\n",
        "# non_vehicle_dataset = tf.data.Dataset.from_tensor_slices((non_vehicle_files, [1] * len(non_vehicle_files)))\n",
        "# vehicle_dataset = tf.data.Dataset.from_tensor_slices((vehicle_files, [2] * len(vehicle_files)))\n",
        "\n",
        "# # Step 3: Combine Datasets\n",
        "# image_dataset = non_vehicle_dataset.concatenate(vehicle_dataset)\n",
        "\n",
        "images = []\n",
        "labels = []\n",
        "dataset = 'drive/MyDrive/Vehicle-Detection-Project/data'\n",
        "\n",
        "for folder in os.listdir(dataset):\n",
        "    if not folder.startswith('.'):\n",
        "        label = None\n",
        "\n",
        "        if folder in ['vehicles']: label = 1\n",
        "        elif folder in ['non-vehicles']: label = 0\n",
        "\n",
        "        for file in os.listdir(os.path.join(dataset, folder)):\n",
        "            if file.endswith('.png'):\n",
        "                img_path = os.path.join(os.path.join(dataset, folder), file)\n",
        "\n",
        "                image = cv2.imread(img_path)\n",
        "\n",
        "                images.append(image)\n",
        "                labels.append(label)\n",
        "\n",
        "images = np.array(images, dtype='float32')/255.0\n",
        "labels = np.array(labels, dtype='int32')\n",
        "\n",
        "images = images.reshape(-1,64,64,3)\n",
        "\n",
        "images, labels = shuffle(images, labels, random_state=42)\n",
        "\n",
        "xtrain,xval,ytrain,yval=train_test_split(images, labels,train_size=0.8,random_state=42)"
      ]
    },
    {
      "cell_type": "code",
      "execution_count": 6,
      "metadata": {
        "id": "6admgOFYVJIP",
        "outputId": "426354b0-0c16-4ec4-9651-5694872bda92",
        "colab": {
          "base_uri": "https://localhost:8080/"
        }
      },
      "outputs": [
        {
          "output_type": "execute_result",
          "data": {
            "text/plain": [
              "(64, 64, 3)"
            ]
          },
          "metadata": {},
          "execution_count": 6
        }
      ],
      "source": [
        "images[0].shape"
      ]
    },
    {
      "cell_type": "code",
      "execution_count": 25,
      "metadata": {
        "id": "OOP6IYPW99HB"
      },
      "outputs": [],
      "source": [
        "# # Define the model architecture\n",
        "# class SSDModel(tf.keras.Model):\n",
        "#     def __init__(self, num_classes):\n",
        "#         super(SSDModel, self).__init__()\n",
        "#         self.num_classes = num_classes\n",
        "\n",
        "#         # Backbone network (e.g. VGG16)\n",
        "#         self.backbone = tf.keras.applications.VGG16(weights='imagenet', include_top=False, input_shape=(64, 64, 3))\n",
        "\n",
        "#         # Feature extractor layers\n",
        "#         self.feature_extractor = tf.keras.Sequential([\n",
        "#             tf.keras.layers.Conv2D(1024, (3, 3), activation='relu', padding='same'),\n",
        "#             tf.keras.layers.Conv2D(1024, (3, 3), activation='relu', padding='same'),\n",
        "#             tf.keras.layers.MaxPooling2D((2, 2))\n",
        "#         ])\n",
        "\n",
        "#         # SSD layers\n",
        "#         self.ssd_layers = []\n",
        "#         for i in range(6):  # 6 default boxes per feature map\n",
        "#             self.ssd_layers.append(SSDLayer(4 + i, num_classes))\n",
        "\n",
        "#         # Prediction layers\n",
        "#         self.prediction_layers = []\n",
        "#         for i in range(6):  # 6 feature maps\n",
        "#             self.prediction_layers.append(PredictionLayer(num_classes))\n",
        "\n",
        "#     def call(self, inputs):\n",
        "#         # Backbone network\n",
        "#         x = self.backbone(inputs)\n",
        "\n",
        "#         # Feature extractor layers\n",
        "#         x = self.feature_extractor(x)\n",
        "\n",
        "#         # SSD layers\n",
        "#         feature_maps = []\n",
        "#         for i, layer in enumerate(self.ssd_layers):\n",
        "#             print(layer)\n",
        "#             x, feature_map = layer(x)\n",
        "#             feature_maps.append(feature_map)\n",
        "\n",
        "#         # Prediction layers\n",
        "#         predictions = []\n",
        "#         for i, layer in enumerate(self.prediction_layers):\n",
        "#             predictions.append(layer(feature_maps[i]))\n",
        "\n",
        "#         # Concatenate predictions\n",
        "#         predictions = tf.concat(predictions, axis=1)\n",
        "\n",
        "#         return predictions\n",
        "\n",
        "# class SSDLayer(tf.keras.layers.Layer):\n",
        "#     def __init__(self, num_defaults, num_classes):\n",
        "#         super(SSDLayer, self).__init__()\n",
        "#         self.num_defaults = num_defaults\n",
        "#         self.num_classes = num_classes\n",
        "\n",
        "#     def build(self, input_shape):\n",
        "#         self.conv = tf.keras.layers.Conv2D(self.num_defaults * (4 + self.num_classes), (3, 3), activation='linear', padding='same', input_shape=input_shape)\n",
        "\n",
        "#     def call(self, inputs):\n",
        "#         # inputs = tf.reshape(inputs, (-1, 64, 64, 3))  # Reshape inputs here\n",
        "#         inputs = tf.reshape(inputs, (-1, 32, 32, 3))  # Assuming 3 channels (RGB)\n",
        "#         x = self.conv(inputs)\n",
        "#         x = tf.reshape(x, (-1, x.shape[1], x.shape[2], self.num_defaults, 4 + self.num_classes))\n",
        "#         return x, x[:, :, :, :, :4]\n",
        "\n",
        "# class PredictionLayer(tf.keras.layers.Layer):\n",
        "#     def __init__(self, num_classes):\n",
        "#         super(PredictionLayer, self).__init__()\n",
        "#         self.num_classes = num_classes\n",
        "\n",
        "#     def build(self, input_shape):\n",
        "#         self.conv = tf.keras.layers.Conv2D(self.num_classes, (3, 3), activation='softmax', padding='same', input_shape=input_shape)\n",
        "\n",
        "#     def call(self, inputs):\n",
        "#         x = self.conv(inputs)\n",
        "#         return x\n",
        "\n",
        "# def load_image(file_path, label):\n",
        "#     img = tf.io.read_file(file_path)\n",
        "#     img = tf.image.decode_image(img, channels=3)  # Ensure 3 channels for color images\n",
        "#     img = tf.cast(img, tf.uint8)  # Cast the image to uint8 data type\n",
        "#     return img, label\n",
        "\n",
        "\n",
        "# # Create the model\n",
        "# model = SSDModel(num_classes=2)  # 2 classes: vehicle and non-vehicle\n",
        "\n",
        "# # Compile the model\n",
        "# model.compile(optimizer='adam', loss='ssd_loss', metrics=['accuracy'])\n",
        "\n",
        "#\n",
        "# vgg16 = tf.keras.applications.VGG16(weights='imagenet', include_top=False, input_shape=(None, None, 3))\n",
        "\n",
        "#     # Extract features until Conv5_3 layer\n",
        "# features = vgg16.get_layer('block5_conv3').output\n",
        "\n",
        "# model = tf.keras.models.Sequential()\n",
        "\n",
        "# model.add(tf.keras.layers.Conv2D(32, (3, 3), padding = \"same\", activation='relu', input_shape=(64,64,3)))\n",
        "# model.add(tf.keras.layers.Conv2D(64, (3, 3), activation='relu'))\n",
        "# model.add(tf.keras.layers.Conv2D(128, (3, 3), activation='relu'))\n",
        "# model.add(tf.keras.layers.MaxPooling2D(pool_size=(2,2)))\n",
        "# model.add(tf.keras.layers.Dropout(0.25))\n",
        "\n",
        "# model.add(tf.keras.layers.Flatten())\n",
        "# model.add(tf.keras.layers.Dropout(0.5))\n",
        "# model.add(tf.keras.layers.Dense(50, activation='relu'))\n",
        "# model.add(tf.keras.layers.Dropout(0.5))\n",
        "# model.add(tf.keras.layers.Dense(1, activation='sigmoid'))\n",
        "\n",
        "# model.compile(loss='binary_crossentropy', optimizer='adam' ,metrics=['accuracy'])\n",
        "\n",
        "\n",
        "def SSD_Model(input_shape, num_classes):\n",
        "    # Load pre-trained VGG-16 model\n",
        "    vgg16 = VGG16(weights='imagenet', include_top=False, input_shape=input_shape)\n",
        "\n",
        "    # Extract features until Conv5_3 layer\n",
        "    features = vgg16.get_layer('block5_conv3').output\n",
        "\n",
        "    # Additional layers for SSD\n",
        "    x = Conv2D(1024, (3, 3), activation='relu', padding='same', name='additional_conv')(features)\n",
        "    x = Conv2D(1024, (1, 1), activation='relu', padding='same', name='additional_conv_2')(x)\n",
        "\n",
        "    # Number of default boxes per feature map cell\n",
        "    num_default_boxes = 6\n",
        "\n",
        "    # Prediction layers\n",
        "    predictions = Conv2D(num_default_boxes * (4 + num_classes), (3, 3), padding='same', name='predictions')(x)\n",
        "\n",
        "    # Reshape predictions for compatibility with SSD\n",
        "    predictions = Reshape((-1, 4 + num_classes))(predictions)\n",
        "\n",
        "    # Create SSD model\n",
        "    model = Model(inputs=vgg16.input, outputs=predictions, name='ssd_model')\n",
        "\n",
        "    return model\n",
        "\n",
        "# # Create a dataset object\n",
        "# dataset = image_dataset.map(load_image)\n",
        "\n",
        "# # # Define the size of the training set\n",
        "# # train_size = int(0.8 * dataset.cardinality().numpy())\n",
        "\n",
        "\n",
        "# # # Split the dataset into training and testing subsets\n",
        "# # train_dataset = dataset.take(train_size)\n",
        "# # test_dataset = dataset.skip(train_size)\n",
        "\n",
        "# # Convert dataset to list to calculate train_size\n",
        "# dataset_list = list(dataset)\n",
        "# train_size = int(0.8 * len(dataset_list))\n",
        "\n",
        "# # Split the dataset into training and testing subsets\n",
        "# train_dataset = tf.data.Dataset.from_tensor_slices(dataset_list[:train_size])\n",
        "# test_dataset = tf.data.Dataset.from_tensor_slices(dataset_list[train_size:])\n",
        "\n"
      ]
    },
    {
      "cell_type": "code",
      "execution_count": 21,
      "metadata": {
        "id": "PqxYPsz1VJIQ"
      },
      "outputs": [],
      "source": [
        "datagen = tf.keras.preprocessing.image.ImageDataGenerator(\n",
        "        featurewise_center=False,\n",
        "        samplewise_center=False,\n",
        "        featurewise_std_normalization=False,\n",
        "        samplewise_std_normalization=False,\n",
        "        zca_whitening=False,\n",
        "        rotation_range=15,\n",
        "        width_shift_range=0.1,\n",
        "        height_shift_range=0.1,\n",
        "        horizontal_flip=True,\n",
        "        vertical_flip=False)\n",
        "xtrain = datagen.fit(xtrain)"
      ]
    },
    {
      "cell_type": "code",
      "execution_count": 26,
      "metadata": {
        "id": "05Y7WPf1VJIQ",
        "outputId": "a36bfe85-d8e1-49b1-a79d-cee9a3b3b42a",
        "colab": {
          "base_uri": "https://localhost:8080/",
          "height": 724
        }
      },
      "outputs": [
        {
          "output_type": "stream",
          "name": "stdout",
          "text": [
            "Epoch 1/5\n"
          ]
        },
        {
          "output_type": "error",
          "ename": "ValueError",
          "evalue": "in user code:\n\n    File \"/usr/local/lib/python3.10/dist-packages/keras/src/engine/training.py\", line 1401, in train_function  *\n        return step_function(self, iterator)\n    File \"/usr/local/lib/python3.10/dist-packages/keras/src/engine/training.py\", line 1384, in step_function  **\n        outputs = model.distribute_strategy.run(run_step, args=(data,))\n    File \"/usr/local/lib/python3.10/dist-packages/keras/src/engine/training.py\", line 1373, in run_step  **\n        outputs = model.train_step(data)\n    File \"/usr/local/lib/python3.10/dist-packages/keras/src/engine/training.py\", line 1151, in train_step\n        loss = self.compute_loss(x, y, y_pred, sample_weight)\n    File \"/usr/local/lib/python3.10/dist-packages/keras/src/engine/training.py\", line 1209, in compute_loss\n        return self.compiled_loss(\n    File \"/usr/local/lib/python3.10/dist-packages/keras/src/engine/compile_utils.py\", line 277, in __call__\n        loss_value = loss_obj(y_t, y_p, sample_weight=sw)\n    File \"/usr/local/lib/python3.10/dist-packages/keras/src/losses.py\", line 143, in __call__\n        losses = call_fn(y_true, y_pred)\n    File \"/usr/local/lib/python3.10/dist-packages/keras/src/losses.py\", line 270, in call  **\n        return ag_fn(y_true, y_pred, **self._fn_kwargs)\n    File \"/usr/local/lib/python3.10/dist-packages/keras/src/losses.py\", line 2221, in categorical_crossentropy\n        return backend.categorical_crossentropy(\n    File \"/usr/local/lib/python3.10/dist-packages/keras/src/backend.py\", line 5573, in categorical_crossentropy\n        target.shape.assert_is_compatible_with(output.shape)\n\n    ValueError: Shapes (None,) and (None, None, 6) are incompatible\n",
          "traceback": [
            "\u001b[0;31m---------------------------------------------------------------------------\u001b[0m",
            "\u001b[0;31mValueError\u001b[0m                                Traceback (most recent call last)",
            "\u001b[0;32m<ipython-input-26-cfac2e714da0>\u001b[0m in \u001b[0;36m<cell line: 11>\u001b[0;34m()\u001b[0m\n\u001b[1;32m      9\u001b[0m \u001b[0;34m\u001b[0m\u001b[0m\n\u001b[1;32m     10\u001b[0m \u001b[0;31m# Train the model using augmented data\u001b[0m\u001b[0;34m\u001b[0m\u001b[0;34m\u001b[0m\u001b[0m\n\u001b[0;32m---> 11\u001b[0;31m \u001b[0mssd_model\u001b[0m\u001b[0;34m.\u001b[0m\u001b[0mfit\u001b[0m\u001b[0;34m(\u001b[0m\u001b[0mdatagen\u001b[0m\u001b[0;34m.\u001b[0m\u001b[0mflow\u001b[0m\u001b[0;34m(\u001b[0m\u001b[0mxtrain\u001b[0m\u001b[0;34m,\u001b[0m \u001b[0mytrain\u001b[0m\u001b[0;34m,\u001b[0m \u001b[0mbatch_size\u001b[0m\u001b[0;34m=\u001b[0m\u001b[0;36m32\u001b[0m\u001b[0;34m)\u001b[0m\u001b[0;34m,\u001b[0m \u001b[0mepochs\u001b[0m\u001b[0;34m=\u001b[0m\u001b[0;36m5\u001b[0m\u001b[0;34m,\u001b[0m \u001b[0mvalidation_data\u001b[0m\u001b[0;34m=\u001b[0m\u001b[0;34m(\u001b[0m\u001b[0mxval\u001b[0m\u001b[0;34m,\u001b[0m \u001b[0myval\u001b[0m\u001b[0;34m)\u001b[0m\u001b[0;34m)\u001b[0m\u001b[0;34m\u001b[0m\u001b[0;34m\u001b[0m\u001b[0m\n\u001b[0m",
            "\u001b[0;32m/usr/local/lib/python3.10/dist-packages/keras/src/utils/traceback_utils.py\u001b[0m in \u001b[0;36merror_handler\u001b[0;34m(*args, **kwargs)\u001b[0m\n\u001b[1;32m     68\u001b[0m             \u001b[0;31m# To get the full stack trace, call:\u001b[0m\u001b[0;34m\u001b[0m\u001b[0;34m\u001b[0m\u001b[0m\n\u001b[1;32m     69\u001b[0m             \u001b[0;31m# `tf.debugging.disable_traceback_filtering()`\u001b[0m\u001b[0;34m\u001b[0m\u001b[0;34m\u001b[0m\u001b[0m\n\u001b[0;32m---> 70\u001b[0;31m             \u001b[0;32mraise\u001b[0m \u001b[0me\u001b[0m\u001b[0;34m.\u001b[0m\u001b[0mwith_traceback\u001b[0m\u001b[0;34m(\u001b[0m\u001b[0mfiltered_tb\u001b[0m\u001b[0;34m)\u001b[0m \u001b[0;32mfrom\u001b[0m \u001b[0;32mNone\u001b[0m\u001b[0;34m\u001b[0m\u001b[0;34m\u001b[0m\u001b[0m\n\u001b[0m\u001b[1;32m     71\u001b[0m         \u001b[0;32mfinally\u001b[0m\u001b[0;34m:\u001b[0m\u001b[0;34m\u001b[0m\u001b[0;34m\u001b[0m\u001b[0m\n\u001b[1;32m     72\u001b[0m             \u001b[0;32mdel\u001b[0m \u001b[0mfiltered_tb\u001b[0m\u001b[0;34m\u001b[0m\u001b[0;34m\u001b[0m\u001b[0m\n",
            "\u001b[0;32m/usr/local/lib/python3.10/dist-packages/keras/src/engine/training.py\u001b[0m in \u001b[0;36mtf__train_function\u001b[0;34m(iterator)\u001b[0m\n\u001b[1;32m     13\u001b[0m                 \u001b[0;32mtry\u001b[0m\u001b[0;34m:\u001b[0m\u001b[0;34m\u001b[0m\u001b[0;34m\u001b[0m\u001b[0m\n\u001b[1;32m     14\u001b[0m                     \u001b[0mdo_return\u001b[0m \u001b[0;34m=\u001b[0m \u001b[0;32mTrue\u001b[0m\u001b[0;34m\u001b[0m\u001b[0;34m\u001b[0m\u001b[0m\n\u001b[0;32m---> 15\u001b[0;31m                     \u001b[0mretval_\u001b[0m \u001b[0;34m=\u001b[0m \u001b[0mag__\u001b[0m\u001b[0;34m.\u001b[0m\u001b[0mconverted_call\u001b[0m\u001b[0;34m(\u001b[0m\u001b[0mag__\u001b[0m\u001b[0;34m.\u001b[0m\u001b[0mld\u001b[0m\u001b[0;34m(\u001b[0m\u001b[0mstep_function\u001b[0m\u001b[0;34m)\u001b[0m\u001b[0;34m,\u001b[0m \u001b[0;34m(\u001b[0m\u001b[0mag__\u001b[0m\u001b[0;34m.\u001b[0m\u001b[0mld\u001b[0m\u001b[0;34m(\u001b[0m\u001b[0mself\u001b[0m\u001b[0;34m)\u001b[0m\u001b[0;34m,\u001b[0m \u001b[0mag__\u001b[0m\u001b[0;34m.\u001b[0m\u001b[0mld\u001b[0m\u001b[0;34m(\u001b[0m\u001b[0miterator\u001b[0m\u001b[0;34m)\u001b[0m\u001b[0;34m)\u001b[0m\u001b[0;34m,\u001b[0m \u001b[0;32mNone\u001b[0m\u001b[0;34m,\u001b[0m \u001b[0mfscope\u001b[0m\u001b[0;34m)\u001b[0m\u001b[0;34m\u001b[0m\u001b[0;34m\u001b[0m\u001b[0m\n\u001b[0m\u001b[1;32m     16\u001b[0m                 \u001b[0;32mexcept\u001b[0m\u001b[0;34m:\u001b[0m\u001b[0;34m\u001b[0m\u001b[0;34m\u001b[0m\u001b[0m\n\u001b[1;32m     17\u001b[0m                     \u001b[0mdo_return\u001b[0m \u001b[0;34m=\u001b[0m \u001b[0;32mFalse\u001b[0m\u001b[0;34m\u001b[0m\u001b[0;34m\u001b[0m\u001b[0m\n",
            "\u001b[0;31mValueError\u001b[0m: in user code:\n\n    File \"/usr/local/lib/python3.10/dist-packages/keras/src/engine/training.py\", line 1401, in train_function  *\n        return step_function(self, iterator)\n    File \"/usr/local/lib/python3.10/dist-packages/keras/src/engine/training.py\", line 1384, in step_function  **\n        outputs = model.distribute_strategy.run(run_step, args=(data,))\n    File \"/usr/local/lib/python3.10/dist-packages/keras/src/engine/training.py\", line 1373, in run_step  **\n        outputs = model.train_step(data)\n    File \"/usr/local/lib/python3.10/dist-packages/keras/src/engine/training.py\", line 1151, in train_step\n        loss = self.compute_loss(x, y, y_pred, sample_weight)\n    File \"/usr/local/lib/python3.10/dist-packages/keras/src/engine/training.py\", line 1209, in compute_loss\n        return self.compiled_loss(\n    File \"/usr/local/lib/python3.10/dist-packages/keras/src/engine/compile_utils.py\", line 277, in __call__\n        loss_value = loss_obj(y_t, y_p, sample_weight=sw)\n    File \"/usr/local/lib/python3.10/dist-packages/keras/src/losses.py\", line 143, in __call__\n        losses = call_fn(y_true, y_pred)\n    File \"/usr/local/lib/python3.10/dist-packages/keras/src/losses.py\", line 270, in call  **\n        return ag_fn(y_true, y_pred, **self._fn_kwargs)\n    File \"/usr/local/lib/python3.10/dist-packages/keras/src/losses.py\", line 2221, in categorical_crossentropy\n        return backend.categorical_crossentropy(\n    File \"/usr/local/lib/python3.10/dist-packages/keras/src/backend.py\", line 5573, in categorical_crossentropy\n        target.shape.assert_is_compatible_with(output.shape)\n\n    ValueError: Shapes (None,) and (None, None, 6) are incompatible\n"
          ]
        }
      ],
      "source": [
        "# Compile the model\n",
        "\n",
        "input_shape = (64, 64, 3)  # Input image size (64x64 with 3 color channels)\n",
        "num_classes = 2  # Number of object classes\n",
        "\n",
        "# Create SSD model\n",
        "ssd_model = SSD_Model(input_shape, num_classes)\n",
        "ssd_model.compile(optimizer='adam', loss='categorical_crossentropy', metrics=['accuracy'])\n",
        "\n",
        "# Train the model using augmented data\n",
        "ssd_model.fit(datagen.flow(xtrain, ytrain, batch_size=32), epochs=5, validation_data=(xval, yval))"
      ]
    }
  ],
  "metadata": {
    "accelerator": "GPU",
    "colab": {
      "gpuType": "T4",
      "provenance": [],
      "machine_shape": "hm"
    },
    "kernelspec": {
      "display_name": "Python 3",
      "name": "python3"
    },
    "language_info": {
      "codemirror_mode": {
        "name": "ipython",
        "version": 3
      },
      "file_extension": ".py",
      "mimetype": "text/x-python",
      "name": "python",
      "nbconvert_exporter": "python",
      "pygments_lexer": "ipython3",
      "version": "3.10.9"
    }
  },
  "nbformat": 4,
  "nbformat_minor": 0
}
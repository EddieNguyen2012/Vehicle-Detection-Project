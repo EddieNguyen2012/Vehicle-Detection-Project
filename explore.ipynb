{
 "cells": [
  {
   "cell_type": "code",
   "execution_count": 1,
   "id": "initial_id",
   "metadata": {
    "collapsed": true,
    "ExecuteTime": {
     "end_time": "2024-04-30T01:06:49.367869Z",
     "start_time": "2024-04-30T01:06:47.101912Z"
    }
   },
   "outputs": [],
   "source": [
    "import cv2\n",
    "import numpy as np\n",
    "import pandas as pd\n"
   ]
  },
  {
   "cell_type": "code",
   "execution_count": 5,
   "outputs": [
    {
     "data": {
      "text/plain": "                                               filename  width  height  \\\n0     frame_9538_jpg.rf.03110592999f1dbf6819eea2a816...    640     640   \n1     frame_3390_jpg.rf.0c8f2506e30861bdd7039fadd515...    640     640   \n2     frame_3390_jpg.rf.0c8f2506e30861bdd7039fadd515...    640     640   \n3     frame_5968_jpg.rf.0df1e2610361d00c9804ea25b39f...    640     640   \n4     frame_5968_jpg.rf.0df1e2610361d00c9804ea25b39f...    640     640   \n...                                                 ...    ...     ...   \n2064  frame_1305_jpg.rf.f744f16a06016952e11b893c38a1...    640     640   \n2065  frame_1305_jpg.rf.f744f16a06016952e11b893c38a1...    640     640   \n2066  frame_1305_jpg.rf.f744f16a06016952e11b893c38a1...    640     640   \n2067  frame_1305_jpg.rf.f744f16a06016952e11b893c38a1...    640     640   \n2068  frame_1305_jpg.rf.f744f16a06016952e11b893c38a1...    640     640   \n\n       class  xmin  ymin  xmax  ymax  \n0        Car   368   110   475   161  \n1        Car   392   145   462   183  \n2      Truck   446   132   478   153  \n3        Car   175   362   276   433  \n4        Car   388   269   438   307  \n...      ...   ...   ...   ...   ...  \n2064     Bus   270   177   292   221  \n2065  Pickup   168   191   189   220  \n2066  Pickup   177   302   211   383  \n2067     Car   474   297   512   338  \n2068  Pickup   193   224   214   257  \n\n[2069 rows x 8 columns]",
      "text/html": "<div>\n<style scoped>\n    .dataframe tbody tr th:only-of-type {\n        vertical-align: middle;\n    }\n\n    .dataframe tbody tr th {\n        vertical-align: top;\n    }\n\n    .dataframe thead th {\n        text-align: right;\n    }\n</style>\n<table border=\"1\" class=\"dataframe\">\n  <thead>\n    <tr style=\"text-align: right;\">\n      <th></th>\n      <th>filename</th>\n      <th>width</th>\n      <th>height</th>\n      <th>class</th>\n      <th>xmin</th>\n      <th>ymin</th>\n      <th>xmax</th>\n      <th>ymax</th>\n    </tr>\n  </thead>\n  <tbody>\n    <tr>\n      <th>0</th>\n      <td>frame_9538_jpg.rf.03110592999f1dbf6819eea2a816...</td>\n      <td>640</td>\n      <td>640</td>\n      <td>Car</td>\n      <td>368</td>\n      <td>110</td>\n      <td>475</td>\n      <td>161</td>\n    </tr>\n    <tr>\n      <th>1</th>\n      <td>frame_3390_jpg.rf.0c8f2506e30861bdd7039fadd515...</td>\n      <td>640</td>\n      <td>640</td>\n      <td>Car</td>\n      <td>392</td>\n      <td>145</td>\n      <td>462</td>\n      <td>183</td>\n    </tr>\n    <tr>\n      <th>2</th>\n      <td>frame_3390_jpg.rf.0c8f2506e30861bdd7039fadd515...</td>\n      <td>640</td>\n      <td>640</td>\n      <td>Truck</td>\n      <td>446</td>\n      <td>132</td>\n      <td>478</td>\n      <td>153</td>\n    </tr>\n    <tr>\n      <th>3</th>\n      <td>frame_5968_jpg.rf.0df1e2610361d00c9804ea25b39f...</td>\n      <td>640</td>\n      <td>640</td>\n      <td>Car</td>\n      <td>175</td>\n      <td>362</td>\n      <td>276</td>\n      <td>433</td>\n    </tr>\n    <tr>\n      <th>4</th>\n      <td>frame_5968_jpg.rf.0df1e2610361d00c9804ea25b39f...</td>\n      <td>640</td>\n      <td>640</td>\n      <td>Car</td>\n      <td>388</td>\n      <td>269</td>\n      <td>438</td>\n      <td>307</td>\n    </tr>\n    <tr>\n      <th>...</th>\n      <td>...</td>\n      <td>...</td>\n      <td>...</td>\n      <td>...</td>\n      <td>...</td>\n      <td>...</td>\n      <td>...</td>\n      <td>...</td>\n    </tr>\n    <tr>\n      <th>2064</th>\n      <td>frame_1305_jpg.rf.f744f16a06016952e11b893c38a1...</td>\n      <td>640</td>\n      <td>640</td>\n      <td>Bus</td>\n      <td>270</td>\n      <td>177</td>\n      <td>292</td>\n      <td>221</td>\n    </tr>\n    <tr>\n      <th>2065</th>\n      <td>frame_1305_jpg.rf.f744f16a06016952e11b893c38a1...</td>\n      <td>640</td>\n      <td>640</td>\n      <td>Pickup</td>\n      <td>168</td>\n      <td>191</td>\n      <td>189</td>\n      <td>220</td>\n    </tr>\n    <tr>\n      <th>2066</th>\n      <td>frame_1305_jpg.rf.f744f16a06016952e11b893c38a1...</td>\n      <td>640</td>\n      <td>640</td>\n      <td>Pickup</td>\n      <td>177</td>\n      <td>302</td>\n      <td>211</td>\n      <td>383</td>\n    </tr>\n    <tr>\n      <th>2067</th>\n      <td>frame_1305_jpg.rf.f744f16a06016952e11b893c38a1...</td>\n      <td>640</td>\n      <td>640</td>\n      <td>Car</td>\n      <td>474</td>\n      <td>297</td>\n      <td>512</td>\n      <td>338</td>\n    </tr>\n    <tr>\n      <th>2068</th>\n      <td>frame_1305_jpg.rf.f744f16a06016952e11b893c38a1...</td>\n      <td>640</td>\n      <td>640</td>\n      <td>Pickup</td>\n      <td>193</td>\n      <td>224</td>\n      <td>214</td>\n      <td>257</td>\n    </tr>\n  </tbody>\n</table>\n<p>2069 rows × 8 columns</p>\n</div>"
     },
     "execution_count": 5,
     "metadata": {},
     "output_type": "execute_result"
    }
   ],
   "source": [
    "df = pd.read_csv('data/train/_annotations.csv')\n",
    "df"
   ],
   "metadata": {
    "collapsed": false,
    "ExecuteTime": {
     "end_time": "2024-04-30T01:07:58.349657Z",
     "start_time": "2024-04-30T01:07:58.328057Z"
    }
   },
   "id": "fa4951e495258563"
  },
  {
   "cell_type": "code",
   "execution_count": null,
   "outputs": [],
   "source": [],
   "metadata": {
    "collapsed": false
   },
   "id": "cab9cc6a1a88c92f"
  }
 ],
 "metadata": {
  "kernelspec": {
   "display_name": "Python 3",
   "language": "python",
   "name": "python3"
  },
  "language_info": {
   "codemirror_mode": {
    "name": "ipython",
    "version": 2
   },
   "file_extension": ".py",
   "mimetype": "text/x-python",
   "name": "python",
   "nbconvert_exporter": "python",
   "pygments_lexer": "ipython2",
   "version": "2.7.6"
  }
 },
 "nbformat": 4,
 "nbformat_minor": 5
}

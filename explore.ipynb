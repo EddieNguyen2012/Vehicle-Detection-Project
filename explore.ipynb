{
 "cells": [
  {
   "cell_type": "code",
   "execution_count": 6,
   "id": "initial_id",
   "metadata": {
    "collapsed": true,
    "ExecuteTime": {
     "end_time": "2024-04-30T02:33:38.645072Z",
     "start_time": "2024-04-30T02:33:38.639028Z"
    }
   },
   "outputs": [],
   "source": [
    "import cv2\n",
    "import numpy as np\n",
    "import pandas as pd\n"
   ]
  },
  {
   "cell_type": "code",
   "execution_count": 7,
   "outputs": [
    {
     "data": {
      "text/plain": "                            Image_Path  Height  Width  Channels  Class\n0               data/vehicles/3975.png      64     64         3      1\n1          data/vehicles/far (488).png      64     64         3      1\n2         data/vehicles/left (730).png      64     64         3      1\n3          data/vehicles/far (172).png      64     64         3      1\n4                data/vehicles/348.png      64     64         3      1\n...                                ...     ...    ...       ...    ...\n17755   data/non-vehicles/image878.png      64     64         3      0\n17756  data/non-vehicles/image3400.png      64     64         3      0\n17757  data/non-vehicles/extra2870.png      64     64         3      0\n17758   data/non-vehicles/extra652.png      64     64         3      0\n17759  data/non-vehicles/image1217.png      64     64         3      0\n\n[17760 rows x 5 columns]",
      "text/html": "<div>\n<style scoped>\n    .dataframe tbody tr th:only-of-type {\n        vertical-align: middle;\n    }\n\n    .dataframe tbody tr th {\n        vertical-align: top;\n    }\n\n    .dataframe thead th {\n        text-align: right;\n    }\n</style>\n<table border=\"1\" class=\"dataframe\">\n  <thead>\n    <tr style=\"text-align: right;\">\n      <th></th>\n      <th>Image_Path</th>\n      <th>Height</th>\n      <th>Width</th>\n      <th>Channels</th>\n      <th>Class</th>\n    </tr>\n  </thead>\n  <tbody>\n    <tr>\n      <th>0</th>\n      <td>data/vehicles/3975.png</td>\n      <td>64</td>\n      <td>64</td>\n      <td>3</td>\n      <td>1</td>\n    </tr>\n    <tr>\n      <th>1</th>\n      <td>data/vehicles/far (488).png</td>\n      <td>64</td>\n      <td>64</td>\n      <td>3</td>\n      <td>1</td>\n    </tr>\n    <tr>\n      <th>2</th>\n      <td>data/vehicles/left (730).png</td>\n      <td>64</td>\n      <td>64</td>\n      <td>3</td>\n      <td>1</td>\n    </tr>\n    <tr>\n      <th>3</th>\n      <td>data/vehicles/far (172).png</td>\n      <td>64</td>\n      <td>64</td>\n      <td>3</td>\n      <td>1</td>\n    </tr>\n    <tr>\n      <th>4</th>\n      <td>data/vehicles/348.png</td>\n      <td>64</td>\n      <td>64</td>\n      <td>3</td>\n      <td>1</td>\n    </tr>\n    <tr>\n      <th>...</th>\n      <td>...</td>\n      <td>...</td>\n      <td>...</td>\n      <td>...</td>\n      <td>...</td>\n    </tr>\n    <tr>\n      <th>17755</th>\n      <td>data/non-vehicles/image878.png</td>\n      <td>64</td>\n      <td>64</td>\n      <td>3</td>\n      <td>0</td>\n    </tr>\n    <tr>\n      <th>17756</th>\n      <td>data/non-vehicles/image3400.png</td>\n      <td>64</td>\n      <td>64</td>\n      <td>3</td>\n      <td>0</td>\n    </tr>\n    <tr>\n      <th>17757</th>\n      <td>data/non-vehicles/extra2870.png</td>\n      <td>64</td>\n      <td>64</td>\n      <td>3</td>\n      <td>0</td>\n    </tr>\n    <tr>\n      <th>17758</th>\n      <td>data/non-vehicles/extra652.png</td>\n      <td>64</td>\n      <td>64</td>\n      <td>3</td>\n      <td>0</td>\n    </tr>\n    <tr>\n      <th>17759</th>\n      <td>data/non-vehicles/image1217.png</td>\n      <td>64</td>\n      <td>64</td>\n      <td>3</td>\n      <td>0</td>\n    </tr>\n  </tbody>\n</table>\n<p>17760 rows × 5 columns</p>\n</div>"
     },
     "execution_count": 7,
     "metadata": {},
     "output_type": "execute_result"
    }
   ],
   "source": [
    "df = pd.read_csv('annotations.csv')\n",
    "df"
   ],
   "metadata": {
    "collapsed": false,
    "ExecuteTime": {
     "end_time": "2024-04-30T02:33:38.699595Z",
     "start_time": "2024-04-30T02:33:38.648066Z"
    }
   },
   "id": "fa4951e495258563"
  },
  {
   "cell_type": "code",
   "execution_count": 7,
   "outputs": [],
   "source": [],
   "metadata": {
    "collapsed": false,
    "ExecuteTime": {
     "end_time": "2024-04-30T02:33:38.699820Z",
     "start_time": "2024-04-30T02:33:38.673860Z"
    }
   },
   "id": "cab9cc6a1a88c92f"
  }
 ],
 "metadata": {
  "kernelspec": {
   "display_name": "Python 3",
   "language": "python",
   "name": "python3"
  },
  "language_info": {
   "codemirror_mode": {
    "name": "ipython",
    "version": 2
   },
   "file_extension": ".py",
   "mimetype": "text/x-python",
   "name": "python",
   "nbconvert_exporter": "python",
   "pygments_lexer": "ipython2",
   "version": "2.7.6"
  }
 },
 "nbformat": 4,
 "nbformat_minor": 5
}
